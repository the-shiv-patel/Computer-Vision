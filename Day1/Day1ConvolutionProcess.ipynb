{
 "cells": [
  {
   "cell_type": "code",
   "execution_count": 120,
   "id": "74b40780",
   "metadata": {},
   "outputs": [],
   "source": [
    "import numpy as np"
   ]
  },
  {
   "cell_type": "code",
   "execution_count": 121,
   "id": "aa1fe5e9",
   "metadata": {},
   "outputs": [],
   "source": [
    "from PIL import Image"
   ]
  },
  {
   "cell_type": "code",
   "execution_count": null,
   "id": "9fe9f261",
   "metadata": {},
   "outputs": [],
   "source": [
    "image=Image.open(r'Add_Your_Path_here').convert('L')\n",
    "img_array= np.array(image)"
   ]
  },
  {
   "cell_type": "code",
   "execution_count": 123,
   "id": "f83aa6fd",
   "metadata": {},
   "outputs": [
    {
     "name": "stdout",
     "output_type": "stream",
     "text": [
      "image shape is  (720, 860)\n"
     ]
    }
   ],
   "source": [
    "print('image shape is ', img_array.shape)"
   ]
  },
  {
   "cell_type": "code",
   "execution_count": 124,
   "id": "8e657d11",
   "metadata": {},
   "outputs": [
    {
     "data": {
      "text/plain": [
       "array([[247, 247, 247, ..., 247, 247, 247],\n",
       "       [247, 247, 247, ..., 247, 247, 247],\n",
       "       [247, 247, 247, ..., 247, 247, 247],\n",
       "       ...,\n",
       "       [247, 247, 247, ..., 247, 247, 247],\n",
       "       [247, 247, 247, ..., 247, 247, 247],\n",
       "       [247, 247, 247, ..., 247, 247, 247]], dtype=uint8)"
      ]
     },
     "execution_count": 124,
     "metadata": {},
     "output_type": "execute_result"
    }
   ],
   "source": [
    "img_array"
   ]
  },
  {
   "cell_type": "code",
   "execution_count": null,
   "id": "0a4e7076",
   "metadata": {},
   "outputs": [
    {
     "name": "stdout",
     "output_type": "stream",
     "text": [
      "[[  3  10   3]\n",
      " [  0   0   0]\n",
      " [ -3 -10  -3]]\n"
     ]
    }
   ],
   "source": [
    "#You can change your kerner to however you like\n",
    "kernel=np.array([[3,10,3],[0,0,0],[-3,-10,-3]])\n",
    "print(kernel)"
   ]
  },
  {
   "cell_type": "code",
   "execution_count": 126,
   "id": "cfd0263d",
   "metadata": {},
   "outputs": [],
   "source": [
    "output = np.zeros_like(img_array)\n",
    "\n",
    "\n",
    "rows, cols = img_array.shape"
   ]
  },
  {
   "cell_type": "code",
   "execution_count": 127,
   "id": "b08967f8",
   "metadata": {},
   "outputs": [],
   "source": [
    "for i in range(1,rows-1):\n",
    "    for j in range(1,cols-1):\n",
    "        region = img_array[i-1:i+2, j-1:j+2]\n",
    "        \n",
    "        # Element-wise multiplication and sum\n",
    "        conv_value = np.sum(region * kernel)\n",
    "        \n",
    "        # Clip to valid pixel range (0–255)\n",
    "        output[i, j] = np.clip(conv_value, 0, 255)"
   ]
  },
  {
   "cell_type": "code",
   "execution_count": null,
   "id": "821bff9e",
   "metadata": {},
   "outputs": [
    {
     "ename": "",
     "evalue": "",
     "output_type": "error",
     "traceback": [
      "\u001b[1;31mThe Kernel crashed while executing code in the current cell or a previous cell. \n",
      "\u001b[1;31mPlease review the code in the cell(s) to identify a possible cause of the failure. \n",
      "\u001b[1;31mClick <a href='https://aka.ms/vscodeJupyterKernelCrash'>here</a> for more info. \n",
      "\u001b[1;31mView Jupyter <a href='command:jupyter.viewOutput'>log</a> for further details."
     ]
    }
   ],
   "source": [
    "Image.fromarray(output).save(\"convolved_image55.png\")\n"
   ]
  },
  {
   "cell_type": "code",
   "execution_count": null,
   "id": "23a9c67f",
   "metadata": {},
   "outputs": [],
   "source": []
  }
 ],
 "metadata": {
  "kernelspec": {
   "display_name": "Python 3",
   "language": "python",
   "name": "python3"
  },
  "language_info": {
   "codemirror_mode": {
    "name": "ipython",
    "version": 3
   },
   "file_extension": ".py",
   "mimetype": "text/x-python",
   "name": "python",
   "nbconvert_exporter": "python",
   "pygments_lexer": "ipython3",
   "version": "3.12.10"
  }
 },
 "nbformat": 4,
 "nbformat_minor": 5
}
